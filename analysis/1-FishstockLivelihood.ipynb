{
 "cells": [
  {
   "cell_type": "code",
   "execution_count": null,
   "id": "5d10a8ea-eeb3-450b-bf1e-0a55e440428f",
   "metadata": {},
   "outputs": [],
   "source": [
    "---\n",
    "format: \n",
    "  html:\n",
    "    toc: false\n",
    "    page-layout: full\n",
    "execute:\n",
    "    echo: false\n",
    "---"
   ]
  },
  {
   "cell_type": "markdown",
   "id": "65ca5ab4-cf25-42a4-bf80-80e8ec3b99d4",
   "metadata": {},
   "source": [
    "# Fisheries & Livelihood following Amendments to the MSA \n",
    "QUESTION 1: How was fish stock, GDP, and commercial fishing employment impacted by the two policy changes? \n",
    "Mariya Lupandina and Clarasophia Gust\n",
    "MUSA 550 | Fall 2024"
   ]
  },
  {
   "cell_type": "code",
   "execution_count": 232,
   "id": "d8471427-06e0-440a-a5ff-c4517b21baeb",
   "metadata": {
    "tags": []
   },
   "outputs": [],
   "source": [
    "# Import necessary libraries \n",
    "import pandas as pd\n",
    "import matplotlib.pyplot as plt\n",
    "import altair as alt\n",
    "import pandas as pd\n",
    "import numpy as np\n",
    "import geopandas as gpd\n",
    "import zipfile"
   ]
  },
  {
   "cell_type": "markdown",
   "id": "81ecd785-625b-468c-823e-40d8395e93f7",
   "metadata": {
    "tags": []
   },
   "source": [
    "### Q1 PART 1 / Regional Scale: Is there a regional pattern? "
   ]
  },
  {
   "cell_type": "markdown",
   "id": "79759cb2-c156-4cdc-a441-5d1e428d6ff5",
   "metadata": {},
   "source": [
    "#### Fish Stock:\n",
    "Data on fish stock counts from 2005 to 2022 was downloaded from NOAA Stock SMART (https://apps-st.fisheries.noaa.gov/stocksmart?app=download-data). Data on all stocks was downloaded for the two relevant marine ecosystem areas: Atlantic Highly Migratory (AHM) and Northeast Shelf (NES). "
   ]
  },
  {
   "cell_type": "code",
   "execution_count": 247,
   "id": "e2778aa4-0d0b-4388-999e-f6ac03795f4b",
   "metadata": {
    "tags": []
   },
   "outputs": [],
   "source": [
    "# Import fish count data for 2005-2022 from NOAA StockSMART. \n",
    "# Data is downloaded by ecosystem area. Load xlsx data for Atlantic Highly Migratory (AHM) and Northeast Shelf (NES) ecosystems. \n",
    "    \n",
    "AHM_stocks = pd.read_csv(\"./data/AHM_NOAAstockSMART_2005to2022.csv\")\n",
    "NES_stocks = pd.read_csv(\"./data/NES_NOAAstockSMART_2005to2022.csv\")\n",
    "   \n",
    "# Drop rows without values for the ratio of current estimated total biomass and the estimate of total sustainable level of biomass (B/Bmsy).\n",
    "AHMstocks_clean = AHM_stocks.dropna(subset=['B/Bmsy'])\n",
    "NESstocks_clean = NES_stocks.dropna(subset=['B/Bmsy'])\n",
    "\n",
    "# Group each ecosystem's data by stock assessment year and species. \n",
    "AHM_grouped = AHMstocks_clean.groupby(['Stock Name', 'Stock ID', 'Assessment Year']).agg({\n",
    "    'Estimated B': 'median',\n",
    "    'B/Bmsy': 'median'\n",
    "})\n",
    "\n",
    "NES_grouped = NESstocks_clean.groupby(['Stock Name', 'Stock ID', 'Assessment Year']).agg({\n",
    "    'Estimated B': 'median',\n",
    "    'B/Bmsy': 'median'\n",
    "})\n",
    "\n",
    "stocks_df = combined_df = pd.concat([AHM_grouped, NES_grouped], ignore_index=True)\n",
    "\n",
    "NES_grouped.columns\n"
   ]
  },
  {
   "cell_type": "markdown",
   "id": "0937618d-644a-4b81-acc4-fb776faa8b12",
   "metadata": {
    "tags": []
   },
   "source": [
    "Atlantic Highly Migratory data: "
   ]
  },
  {
   "cell_type": "code",
   "execution_count": 248,
   "id": "b31fb40c-835c-487b-8b6e-5fafeabbbaf7",
   "metadata": {
    "tags": []
   },
   "outputs": [
    {
     "data": {
      "text/html": [
       "\n",
       "<style>\n",
       "  #altair-viz-e30f0cf5557441829ffebf5bc88419a1.vega-embed {\n",
       "    width: 100%;\n",
       "    display: flex;\n",
       "  }\n",
       "\n",
       "  #altair-viz-e30f0cf5557441829ffebf5bc88419a1.vega-embed details,\n",
       "  #altair-viz-e30f0cf5557441829ffebf5bc88419a1.vega-embed details summary {\n",
       "    position: relative;\n",
       "  }\n",
       "</style>\n",
       "<div id=\"altair-viz-e30f0cf5557441829ffebf5bc88419a1\"></div>\n",
       "<script type=\"text/javascript\">\n",
       "  var VEGA_DEBUG = (typeof VEGA_DEBUG == \"undefined\") ? {} : VEGA_DEBUG;\n",
       "  (function(spec, embedOpt){\n",
       "    let outputDiv = document.currentScript.previousElementSibling;\n",
       "    if (outputDiv.id !== \"altair-viz-e30f0cf5557441829ffebf5bc88419a1\") {\n",
       "      outputDiv = document.getElementById(\"altair-viz-e30f0cf5557441829ffebf5bc88419a1\");\n",
       "    }\n",
       "    const paths = {\n",
       "      \"vega\": \"https://cdn.jsdelivr.net/npm/vega@5?noext\",\n",
       "      \"vega-lib\": \"https://cdn.jsdelivr.net/npm/vega-lib?noext\",\n",
       "      \"vega-lite\": \"https://cdn.jsdelivr.net/npm/vega-lite@5.20.1?noext\",\n",
       "      \"vega-embed\": \"https://cdn.jsdelivr.net/npm/vega-embed@6?noext\",\n",
       "    };\n",
       "\n",
       "    function maybeLoadScript(lib, version) {\n",
       "      var key = `${lib.replace(\"-\", \"\")}_version`;\n",
       "      return (VEGA_DEBUG[key] == version) ?\n",
       "        Promise.resolve(paths[lib]) :\n",
       "        new Promise(function(resolve, reject) {\n",
       "          var s = document.createElement('script');\n",
       "          document.getElementsByTagName(\"head\")[0].appendChild(s);\n",
       "          s.async = true;\n",
       "          s.onload = () => {\n",
       "            VEGA_DEBUG[key] = version;\n",
       "            return resolve(paths[lib]);\n",
       "          };\n",
       "          s.onerror = () => reject(`Error loading script: ${paths[lib]}`);\n",
       "          s.src = paths[lib];\n",
       "        });\n",
       "    }\n",
       "\n",
       "    function showError(err) {\n",
       "      outputDiv.innerHTML = `<div class=\"error\" style=\"color:red;\">${err}</div>`;\n",
       "      throw err;\n",
       "    }\n",
       "\n",
       "    function displayChart(vegaEmbed) {\n",
       "      vegaEmbed(outputDiv, spec, embedOpt)\n",
       "        .catch(err => showError(`Javascript Error: ${err.message}<br>This usually means there's a typo in your chart specification. See the javascript console for the full traceback.`));\n",
       "    }\n",
       "\n",
       "    if(typeof define === \"function\" && define.amd) {\n",
       "      requirejs.config({paths});\n",
       "      require([\"vega-embed\"], displayChart, err => showError(`Error loading script: ${err.message}`));\n",
       "    } else {\n",
       "      maybeLoadScript(\"vega\", \"5\")\n",
       "        .then(() => maybeLoadScript(\"vega-lite\", \"5.20.1\"))\n",
       "        .then(() => maybeLoadScript(\"vega-embed\", \"6\"))\n",
       "        .catch(showError)\n",
       "        .then(() => displayChart(vegaEmbed));\n",
       "    }\n",
       "  })({\"config\": {\"view\": {\"continuousWidth\": 300, \"continuousHeight\": 300}}, \"layer\": [{\"data\": {\"name\": \"data-4aecd0fb15663951337fbe92a113f835\"}, \"mark\": {\"type\": \"line\"}, \"encoding\": {\"color\": {\"field\": \"Common Name\", \"type\": \"nominal\"}, \"detail\": {\"field\": \"Common Name\", \"type\": \"nominal\"}, \"x\": {\"field\": \"Assessment Year\", \"type\": \"ordinal\"}, \"y\": {\"field\": \"B/Bmsy\", \"type\": \"quantitative\"}}, \"title\": \"B/Bmsy for Each Species Over the Years 2005-2022\"}, {\"data\": {\"name\": \"data-984471563bd508110c25622834a2bcaa\"}, \"mark\": {\"type\": \"rule\", \"color\": \"black\"}, \"encoding\": {\"x\": {\"field\": \"year\", \"type\": \"ordinal\"}}}], \"height\": 400, \"width\": 400, \"$schema\": \"https://vega.github.io/schema/vega-lite/v5.20.1.json\", \"datasets\": {\"data-4aecd0fb15663951337fbe92a113f835\": [{\"Common Name\": \"Albacore\", \"Assessment Year\": 2007, \"Stock ID\": 10950.0, \"ITIS Taxon Serial Number\": 172419.0, \"Assessment ID\": 936.0, \"Assessment Month\": 7.0, \"Last Data Year\": 2005.0, \"Life History Data\": 2.0, \"Abundance Data\": 1.0, \"Catch Data\": 2.0, \"Assessment Level\": 4.0, \"Assessment Frequency\": 2.0, \"Model Category\": null, \"Catch Input Data\": null, \"Abundance Input Data\": null, \"Biological Input Data\": null, \"Ecosystem Linkage\": null, \"Composition Input Data\": null, \"F Year\": 2005.0, \"Estimated F\": 0.272000015, \"Flimit\": 0.180999994, \"Fmsy\": 0.180999994, \"F/Flimit\": 1.5, \"F/Fmsy\": 1.5, \"Ftarget\": 0.180999994, \"F/Ftarget\": 1.5, \"B Year\": 2005.0, \"Estimated B\": 135270.0, \"Blimit\": null, \"Bmsy\": 167000.0, \"B/Blimit\": 0.810000002, \"B/Bmsy\": 0.810000002, \"MSY\": 30230.0}, {\"Common Name\": \"Albacore\", \"Assessment Year\": 2009, \"Stock ID\": 10950.0, \"ITIS Taxon Serial Number\": 172419.0, \"Assessment ID\": 2245.0, \"Assessment Month\": 10.0, \"Last Data Year\": 2007.0, \"Life History Data\": 2.0, \"Abundance Data\": 1.0, \"Catch Data\": 2.0, \"Assessment Level\": 4.0, \"Assessment Frequency\": 2.0, \"Model Category\": null, \"Catch Input Data\": null, \"Abundance Input Data\": null, \"Biological Input Data\": null, \"Ecosystem Linkage\": null, \"Composition Input Data\": null, \"F Year\": 2007.0, \"Estimated F\": 0.181999996, \"Flimit\": null, \"Fmsy\": 0.174999997, \"F/Flimit\": null, \"F/Fmsy\": 1.039999962, \"Ftarget\": 0.174999997, \"F/Ftarget\": 1.039999962, \"B Year\": 2007.0, \"Estimated B\": 33397.98047, \"Blimit\": null, \"Bmsy\": 53660.0, \"B/Blimit\": null, \"B/Bmsy\": 0.621999979, \"MSY\": 29000.0}, {\"Common Name\": \"Albacore\", \"Assessment Year\": 2013, \"Stock ID\": 10950.0, \"ITIS Taxon Serial Number\": 172419.0, \"Assessment ID\": 3895.0, \"Assessment Month\": 10.0, \"Last Data Year\": 2011.0, \"Life History Data\": 3.0, \"Abundance Data\": 1.0, \"Catch Data\": 2.0, \"Assessment Level\": 4.0, \"Assessment Frequency\": 2.0, \"Model Category\": null, \"Catch Input Data\": null, \"Abundance Input Data\": null, \"Biological Input Data\": null, \"Ecosystem Linkage\": null, \"Composition Input Data\": null, \"F Year\": 2011.0, \"Estimated F\": 0.107000001, \"Flimit\": null, \"Fmsy\": 0.149000004, \"F/Flimit\": null, \"F/Fmsy\": 0.720000029, \"Ftarget\": 0.149000004, \"F/Ftarget\": 0.720000029, \"B Year\": 2011.0, \"Estimated B\": 76243.0, \"Blimit\": 56700.0, \"Bmsy\": 81110.0, \"B/Blimit\": 1.345000029, \"B/Bmsy\": 0.939999998, \"MSY\": 31680.0}, {\"Common Name\": \"Albacore\", \"Assessment Year\": 2016, \"Stock ID\": 10950.0, \"ITIS Taxon Serial Number\": 172419.0, \"Assessment ID\": 6935.0, \"Assessment Month\": 10.0, \"Last Data Year\": 2015.0, \"Life History Data\": 3.0, \"Abundance Data\": 1.0, \"Catch Data\": 1.0, \"Assessment Level\": 3.0, \"Assessment Frequency\": 2.0, \"Model Category\": null, \"Catch Input Data\": null, \"Abundance Input Data\": null, \"Biological Input Data\": null, \"Ecosystem Linkage\": null, \"Composition Input Data\": null, \"F Year\": 2014.0, \"Estimated F\": 0.052000001, \"Flimit\": null, \"Fmsy\": 0.097000003, \"F/Flimit\": null, \"F/Fmsy\": 0.540000021, \"Ftarget\": null, \"F/Ftarget\": 0.540000021, \"B Year\": 2015.0, \"Estimated B\": 555363.0, \"Blimit\": 163026.7969, \"Bmsy\": 407567.0, \"B/Blimit\": 3.400000095, \"B/Bmsy\": 1.360000014, \"MSY\": 37082.0}, {\"Common Name\": \"Albacore\", \"Assessment Year\": 2020, \"Stock ID\": 10950.0, \"ITIS Taxon Serial Number\": 172419.0, \"Assessment ID\": 11022.0, \"Assessment Month\": 10.0, \"Last Data Year\": 2019.0, \"Life History Data\": 3.0, \"Abundance Data\": 1.0, \"Catch Data\": 1.0, \"Assessment Level\": 3.0, \"Assessment Frequency\": 2.0, \"Model Category\": 3.0, \"Catch Input Data\": 3.0, \"Abundance Input Data\": 2.0, \"Biological Input Data\": 3.0, \"Ecosystem Linkage\": 1.0, \"Composition Input Data\": 1.0, \"F Year\": 2018.0, \"Estimated F\": 0.059, \"Flimit\": 0.093000002, \"Fmsy\": 0.093000002, \"F/Flimit\": 0.634000003, \"F/Fmsy\": 0.634000003, \"Ftarget\": null, \"F/Ftarget\": null, \"B Year\": 2019.0, \"Estimated B\": 508074.0, \"Blimit\": 153962.0, \"Bmsy\": 384905.0, \"B/Blimit\": 3.299999952, \"B/Bmsy\": 1.320000052, \"MSY\": 36816.0}, {\"Common Name\": \"Atlantic sharpnose shark\", \"Assessment Year\": 2013, \"Stock ID\": 14141.0, \"ITIS Taxon Serial Number\": 160200.0, \"Assessment ID\": 5245.0, \"Assessment Month\": 10.0, \"Last Data Year\": 2011.0, \"Life History Data\": 2.0, \"Abundance Data\": 1.0, \"Catch Data\": 1.0, \"Assessment Level\": 4.0, \"Assessment Frequency\": 2.0, \"Model Category\": null, \"Catch Input Data\": null, \"Abundance Input Data\": null, \"Biological Input Data\": null, \"Ecosystem Linkage\": null, \"Composition Input Data\": null, \"F Year\": 2011.0, \"Estimated F\": 0.043000001, \"Flimit\": 0.184, \"Fmsy\": 0.184, \"F/Flimit\": 0.233999997, \"F/Fmsy\": 0.233999997, \"Ftarget\": null, \"F/Ftarget\": null, \"B Year\": 2011.0, \"Estimated B\": 10100000.0, \"Blimit\": 3732480.0, \"Bmsy\": 4860000.0, \"B/Blimit\": 2.70600009, \"B/Bmsy\": 2.078000069, \"MSY\": null}, {\"Common Name\": \"Bigeye tuna\", \"Assessment Year\": 2007, \"Stock ID\": 10169.0, \"ITIS Taxon Serial Number\": 172428.0, \"Assessment ID\": 949.0, \"Assessment Month\": 6.0, \"Last Data Year\": 2005.0, \"Life History Data\": 2.0, \"Abundance Data\": 1.0, \"Catch Data\": 2.0, \"Assessment Level\": 3.0, \"Assessment Frequency\": 2.0, \"Model Category\": null, \"Catch Input Data\": null, \"Abundance Input Data\": null, \"Biological Input Data\": null, \"Ecosystem Linkage\": null, \"Composition Input Data\": null, \"F Year\": 2005.0, \"Estimated F\": 0.174999997, \"Flimit\": null, \"Fmsy\": 0.201000005, \"F/Flimit\": 0.870999992, \"F/Fmsy\": 0.870999992, \"Ftarget\": null, \"F/Ftarget\": 0.870999992, \"B Year\": 2006.0, \"Estimated B\": 414752.0, \"Blimit\": null, \"Bmsy\": 451800.0, \"B/Blimit\": 0.917999983, \"B/Bmsy\": 0.917999983, \"MSY\": 90820.0}, {\"Common Name\": \"Bigeye tuna\", \"Assessment Year\": 2010, \"Stock ID\": 10169.0, \"ITIS Taxon Serial Number\": 172428.0, \"Assessment ID\": 2906.0, \"Assessment Month\": 7.0, \"Last Data Year\": 2009.0, \"Life History Data\": 2.0, \"Abundance Data\": 1.0, \"Catch Data\": 2.0, \"Assessment Level\": 3.0, \"Assessment Frequency\": 2.0, \"Model Category\": null, \"Catch Input Data\": null, \"Abundance Input Data\": null, \"Biological Input Data\": null, \"Ecosystem Linkage\": null, \"Composition Input Data\": null, \"F Year\": 2008.0, \"Estimated F\": 0.202999994, \"Flimit\": null, \"Fmsy\": 0.214000002, \"F/Flimit\": 0.949999988, \"F/Fmsy\": 0.949999988, \"Ftarget\": null, \"F/Ftarget\": 0.949999988, \"B Year\": 2009.0, \"Estimated B\": null, \"Blimit\": null, \"Bmsy\": null, \"B/Blimit\": 1.00999999, \"B/Bmsy\": 1.00999999, \"MSY\": 92000.0}, {\"Common Name\": \"Bigeye tuna\", \"Assessment Year\": 2015, \"Stock ID\": 10169.0, \"ITIS Taxon Serial Number\": 172428.0, \"Assessment ID\": 5784.0, \"Assessment Month\": 10.0, \"Last Data Year\": 2014.0, \"Life History Data\": 2.0, \"Abundance Data\": 1.0, \"Catch Data\": 2.0, \"Assessment Level\": 4.0, \"Assessment Frequency\": 2.0, \"Model Category\": null, \"Catch Input Data\": null, \"Abundance Input Data\": null, \"Biological Input Data\": null, \"Ecosystem Linkage\": null, \"Composition Input Data\": null, \"F Year\": 2014.0, \"Estimated F\": null, \"Flimit\": null, \"Fmsy\": null, \"F/Flimit\": null, \"F/Fmsy\": 1.279999971, \"Ftarget\": null, \"F/Ftarget\": null, \"B Year\": 2014.0, \"Estimated B\": null, \"Blimit\": null, \"Bmsy\": null, \"B/Blimit\": null, \"B/Bmsy\": 0.670000017, \"MSY\": 78824.0}, {\"Common Name\": \"Bigeye tuna\", \"Assessment Year\": 2021, \"Stock ID\": 10169.0, \"ITIS Taxon Serial Number\": 172428.0, \"Assessment ID\": 11796.0, \"Assessment Month\": 10.0, \"Last Data Year\": 2019.0, \"Life History Data\": null, \"Abundance Data\": null, \"Catch Data\": null, \"Assessment Level\": null, \"Assessment Frequency\": null, \"Model Category\": 5.0, \"Catch Input Data\": 3.0, \"Abundance Input Data\": 2.0, \"Biological Input Data\": 2.0, \"Ecosystem Linkage\": 2.0, \"Composition Input Data\": 3.0, \"F Year\": 2019.0, \"Estimated F\": null, \"Flimit\": null, \"Fmsy\": null, \"F/Flimit\": null, \"F/Fmsy\": 1.0, \"Ftarget\": null, \"F/Ftarget\": null, \"B Year\": null, \"Estimated B\": null, \"Blimit\": null, \"Bmsy\": null, \"B/Blimit\": null, \"B/Bmsy\": 0.939999998, \"MSY\": 86833.0}, {\"Common Name\": \"Blacktip shark\", \"Assessment Year\": 2006, \"Stock ID\": 11027.0, \"ITIS Taxon Serial Number\": 160318.0, \"Assessment ID\": 957.0, \"Assessment Month\": 6.0, \"Last Data Year\": 2004.0, \"Life History Data\": 2.0, \"Abundance Data\": 2.0, \"Catch Data\": 2.0, \"Assessment Level\": 4.0, \"Assessment Frequency\": 2.0, \"Model Category\": null, \"Catch Input Data\": null, \"Abundance Input Data\": null, \"Biological Input Data\": null, \"Ecosystem Linkage\": null, \"Composition Input Data\": null, \"F Year\": 2004.0, \"Estimated F\": 0.01, \"Flimit\": 0.200000003, \"Fmsy\": 0.200000003, \"F/Flimit\": 0.029999999, \"F/Fmsy\": 0.029999999, \"Ftarget\": 0.150000006, \"F/Ftarget\": 0.067000002, \"B Year\": 2004.0, \"Estimated B\": 1930000.0, \"Blimit\": 15161.0, \"Bmsy\": 17773.0, \"B/Blimit\": 3.0, \"B/Bmsy\": 2.559999943, \"MSY\": 24200.0}, {\"Common Name\": \"Blacktip shark\", \"Assessment Year\": 2012, \"Stock ID\": 11027.0, \"ITIS Taxon Serial Number\": 160318.0, \"Assessment ID\": 3340.0, \"Assessment Month\": 8.0, \"Last Data Year\": 2010.0, \"Life History Data\": 2.0, \"Abundance Data\": 1.0, \"Catch Data\": 1.0, \"Assessment Level\": 4.0, \"Assessment Frequency\": 2.0, \"Model Category\": null, \"Catch Input Data\": null, \"Abundance Input Data\": null, \"Biological Input Data\": null, \"Ecosystem Linkage\": null, \"Composition Input Data\": null, \"F Year\": 2010.0, \"Estimated F\": 0.01, \"Flimit\": 0.083999999, \"Fmsy\": 0.083999999, \"F/Flimit\": 0.074000001, \"F/Fmsy\": 0.074000001, \"Ftarget\": null, \"F/Ftarget\": null, \"B Year\": 2010.0, \"Estimated B\": 15300000.0, \"Blimit\": null, \"Bmsy\": 5830000.0, \"B/Blimit\": null, \"B/Bmsy\": 2.624000072, \"MSY\": null}, {\"Common Name\": \"Blue marlin\", \"Assessment Year\": 2011, \"Stock ID\": 11254.0, \"ITIS Taxon Serial Number\": 172491.0, \"Assessment ID\": 3146.0, \"Assessment Month\": 10.0, \"Last Data Year\": 2009.0, \"Life History Data\": 2.0, \"Abundance Data\": 1.0, \"Catch Data\": 2.0, \"Assessment Level\": 4.0, \"Assessment Frequency\": 1.0, \"Model Category\": null, \"Catch Input Data\": null, \"Abundance Input Data\": null, \"Biological Input Data\": null, \"Ecosystem Linkage\": null, \"Composition Input Data\": null, \"F Year\": 2009.0, \"Estimated F\": null, \"Flimit\": null, \"Fmsy\": null, \"F/Flimit\": null, \"F/Fmsy\": 1.633000016, \"Ftarget\": null, \"F/Ftarget\": null, \"B Year\": 2009.0, \"Estimated B\": null, \"Blimit\": null, \"Bmsy\": null, \"B/Blimit\": null, \"B/Bmsy\": 0.670000017, \"MSY\": 2837.300049}, {\"Common Name\": \"Bluefin tuna\", \"Assessment Year\": 2006, \"Stock ID\": 10165.0, \"ITIS Taxon Serial Number\": 172421.0, \"Assessment ID\": 962.0, \"Assessment Month\": 6.0, \"Last Data Year\": 2004.0, \"Life History Data\": 3.0, \"Abundance Data\": 2.0, \"Catch Data\": 4.0, \"Assessment Level\": 4.0, \"Assessment Frequency\": 2.0, \"Model Category\": null, \"Catch Input Data\": null, \"Abundance Input Data\": null, \"Biological Input Data\": null, \"Ecosystem Linkage\": null, \"Composition Input Data\": null, \"F Year\": 2004.0, \"Estimated F\": 0.256000012, \"Flimit\": null, \"Fmsy\": 0.171000004, \"F/Flimit\": 1.700000048, \"F/Fmsy\": 1.700000048, \"Ftarget\": null, \"F/Ftarget\": 1.700000048, \"B Year\": 2004.0, \"Estimated B\": 6450.0, \"Blimit\": null, \"Bmsy\": 15800.0, \"B/Blimit\": 0.409999996, \"B/Bmsy\": 0.409999996, \"MSY\": 3200.0}, {\"Common Name\": \"Bluefin tuna\", \"Assessment Year\": 2010, \"Stock ID\": 10165.0, \"ITIS Taxon Serial Number\": 172421.0, \"Assessment ID\": 2966.0, \"Assessment Month\": 10.0, \"Last Data Year\": 2009.0, \"Life History Data\": 2.0, \"Abundance Data\": 1.0, \"Catch Data\": 4.0, \"Assessment Level\": 4.0, \"Assessment Frequency\": 2.0, \"Model Category\": null, \"Catch Input Data\": null, \"Abundance Input Data\": null, \"Biological Input Data\": null, \"Ecosystem Linkage\": null, \"Composition Input Data\": null, \"F Year\": 2009.0, \"Estimated F\": 0.119999997, \"Flimit\": null, \"Fmsy\": null, \"F/Flimit\": 1.149999976, \"F/Fmsy\": 1.149999976, \"Ftarget\": null, \"F/Ftarget\": 1.149999976, \"B Year\": 2009.0, \"Estimated B\": 14020.0, \"Blimit\": null, \"Bmsy\": null, \"B/Blimit\": 0.479999989, \"B/Bmsy\": 0.479999989, \"MSY\": 4220.0}, {\"Common Name\": \"Bluefin tuna\", \"Assessment Year\": 2012, \"Stock ID\": 10165.0, \"ITIS Taxon Serial Number\": 172421.0, \"Assessment ID\": 3199.0, \"Assessment Month\": 10.0, \"Last Data Year\": 2011.0, \"Life History Data\": 2.0, \"Abundance Data\": 1.0, \"Catch Data\": 4.0, \"Assessment Level\": 4.0, \"Assessment Frequency\": 2.0, \"Model Category\": null, \"Catch Input Data\": null, \"Abundance Input Data\": null, \"Biological Input Data\": null, \"Ecosystem Linkage\": null, \"Composition Input Data\": null, \"F Year\": 2010.0, \"Estimated F\": 0.100000001, \"Flimit\": 0.119999997, \"Fmsy\": 0.119999997, \"F/Flimit\": 0.949999988, \"F/Fmsy\": 0.949999988, \"Ftarget\": 0.119999997, \"F/Ftarget\": 0.949999988, \"B Year\": 2011.0, \"Estimated B\": 18235.0, \"Blimit\": 37980.0, \"Bmsy\": 37970.0, \"B/Blimit\": 0.639999986, \"B/Bmsy\": 0.639999986, \"MSY\": 3986.0}, {\"Common Name\": \"Dusky shark\", \"Assessment Year\": 2006, \"Stock ID\": 10674.0, \"ITIS Taxon Serial Number\": 160268.0, \"Assessment ID\": 1156.0, \"Assessment Month\": 5.0, \"Last Data Year\": 2003.0, \"Life History Data\": 2.0, \"Abundance Data\": 2.0, \"Catch Data\": 2.0, \"Assessment Level\": 4.0, \"Assessment Frequency\": 0.0, \"Model Category\": null, \"Catch Input Data\": null, \"Abundance Input Data\": null, \"Biological Input Data\": null, \"Ecosystem Linkage\": null, \"Composition Input Data\": null, \"F Year\": 2003.0, \"Estimated F\": 0.430000007, \"Flimit\": 0.006, \"Fmsy\": 0.006, \"F/Flimit\": 71.66699982, \"F/Fmsy\": 71.66699982, \"Ftarget\": 0.005, \"F/Ftarget\": 86.0, \"B Year\": 2003.0, \"Estimated B\": 1164.0, \"Blimit\": 4740.0, \"Bmsy\": 5320.0, \"B/Blimit\": 0.246000007, \"B/Bmsy\": 0.218999997, \"MSY\": null}, {\"Common Name\": \"Finetooth shark\", \"Assessment Year\": 2007, \"Stock ID\": 10687.0, \"ITIS Taxon Serial Number\": 160409.0, \"Assessment ID\": 978.0, \"Assessment Month\": 11.0, \"Last Data Year\": 2005.0, \"Life History Data\": 2.0, \"Abundance Data\": 1.0, \"Catch Data\": 1.0, \"Assessment Level\": 3.0, \"Assessment Frequency\": 1.0, \"Model Category\": null, \"Catch Input Data\": null, \"Abundance Input Data\": null, \"Biological Input Data\": null, \"Ecosystem Linkage\": null, \"Composition Input Data\": null, \"F Year\": 2005.0, \"Estimated F\": 0.003, \"Flimit\": 0.029999999, \"Fmsy\": 0.029999999, \"F/Flimit\": 0.100000001, \"F/Fmsy\": 0.100000001, \"Ftarget\": 0.022, \"F/Ftarget\": 0.136000007, \"B Year\": 2005.0, \"Estimated B\": 4157172.0, \"Blimit\": 2444036.0, \"Bmsy\": 3199000.0, \"B/Blimit\": 1.700999975, \"B/Bmsy\": 1.299999952, \"MSY\": 96000.0}, {\"Common Name\": \"Porbeagle\", \"Assessment Year\": 2021, \"Stock ID\": 10654.0, \"ITIS Taxon Serial Number\": 159911.0, \"Assessment ID\": 11387.0, \"Assessment Month\": 1.0, \"Last Data Year\": 2018.0, \"Life History Data\": 2.0, \"Abundance Data\": 1.0, \"Catch Data\": 4.0, \"Assessment Level\": 4.0, \"Assessment Frequency\": 1.0, \"Model Category\": 1.0, \"Catch Input Data\": 2.0, \"Abundance Input Data\": 2.0, \"Biological Input Data\": 3.0, \"Ecosystem Linkage\": 1.0, \"Composition Input Data\": 2.0, \"F Year\": 2018.0, \"Estimated F\": 0.02, \"Flimit\": null, \"Fmsy\": 0.048999999, \"F/Flimit\": null, \"F/Fmsy\": 0.412999988, \"Ftarget\": null, \"F/Ftarget\": null, \"B Year\": 2018.0, \"Estimated B\": 201.0, \"Blimit\": null, \"Bmsy\": 353.0, \"B/Blimit\": null, \"B/Bmsy\": 0.569999993, \"MSY\": null}, {\"Common Name\": \"Sandbar shark\", \"Assessment Year\": 2006, \"Stock ID\": 10676.0, \"ITIS Taxon Serial Number\": 160289.0, \"Assessment ID\": 1014.0, \"Assessment Month\": 6.0, \"Last Data Year\": 2004.0, \"Life History Data\": 2.0, \"Abundance Data\": 2.0, \"Catch Data\": 2.0, \"Assessment Level\": 4.0, \"Assessment Frequency\": 2.0, \"Model Category\": null, \"Catch Input Data\": null, \"Abundance Input Data\": null, \"Biological Input Data\": null, \"Ecosystem Linkage\": null, \"Composition Input Data\": null, \"F Year\": 2004.0, \"Estimated F\": 0.059999999, \"Flimit\": 0.015, \"Fmsy\": 0.015, \"F/Flimit\": 3.720000029, \"F/Fmsy\": 3.720000029, \"Ftarget\": 0.011, \"F/Ftarget\": 5.329999924, \"B Year\": 2004.0, \"Estimated B\": 30600.0, \"Blimit\": 530.0, \"Bmsy\": 594.0, \"B/Blimit\": 0.810000002, \"B/Bmsy\": 0.720000029, \"MSY\": 403.0}, {\"Common Name\": \"Sandbar shark\", \"Assessment Year\": 2011, \"Stock ID\": 10676.0, \"ITIS Taxon Serial Number\": 160289.0, \"Assessment ID\": 2822.0, \"Assessment Month\": 4.0, \"Last Data Year\": 2009.0, \"Life History Data\": 2.0, \"Abundance Data\": 2.0, \"Catch Data\": 2.0, \"Assessment Level\": 4.0, \"Assessment Frequency\": 2.0, \"Model Category\": null, \"Catch Input Data\": null, \"Abundance Input Data\": null, \"Biological Input Data\": null, \"Ecosystem Linkage\": null, \"Composition Input Data\": null, \"F Year\": 2009.0, \"Estimated F\": 0.013, \"Flimit\": null, \"Fmsy\": 0.021, \"F/Flimit\": null, \"F/Fmsy\": 0.620999992, \"Ftarget\": null, \"F/Ftarget\": null, \"B Year\": 2009.0, \"Estimated B\": 312890.0, \"Blimit\": 412637.0, \"Bmsy\": 477590.0, \"B/Blimit\": 0.758000016, \"B/Bmsy\": 0.654999971, \"MSY\": null}, {\"Common Name\": \"Sandbar shark\", \"Assessment Year\": 2018, \"Stock ID\": 10676.0, \"ITIS Taxon Serial Number\": 160289.0, \"Assessment ID\": 7939.0, \"Assessment Month\": 3.0, \"Last Data Year\": 2015.0, \"Life History Data\": 2.0, \"Abundance Data\": 2.0, \"Catch Data\": 2.0, \"Assessment Level\": 4.0, \"Assessment Frequency\": 1.0, \"Model Category\": null, \"Catch Input Data\": null, \"Abundance Input Data\": null, \"Biological Input Data\": null, \"Ecosystem Linkage\": null, \"Composition Input Data\": null, \"F Year\": 2015.0, \"Estimated F\": 0.039999999, \"Flimit\": 0.07, \"Fmsy\": 0.07, \"F/Flimit\": 0.57099998, \"F/Fmsy\": 0.57099998, \"Ftarget\": null, \"F/Ftarget\": null, \"B Year\": 2015.0, \"Estimated B\": 527.0, \"Blimit\": 595.0, \"Bmsy\": 681.0, \"B/Blimit\": 0.885999978, \"B/Bmsy\": 0.773999989, \"MSY\": null}, {\"Common Name\": \"Scalloped hammerhead\", \"Assessment Year\": 2009, \"Stock ID\": 11763.0, \"ITIS Taxon Serial Number\": 160508.0, \"Assessment ID\": 2841.0, \"Assessment Month\": 10.0, \"Last Data Year\": 2005.0, \"Life History Data\": 2.0, \"Abundance Data\": 1.0, \"Catch Data\": 1.0, \"Assessment Level\": 3.0, \"Assessment Frequency\": 1.0, \"Model Category\": null, \"Catch Input Data\": null, \"Abundance Input Data\": null, \"Biological Input Data\": null, \"Ecosystem Linkage\": null, \"Composition Input Data\": null, \"F Year\": 2005.0, \"Estimated F\": 0.140000001, \"Flimit\": 0.109999999, \"Fmsy\": 0.109999999, \"F/Flimit\": 1.289999962, \"F/Fmsy\": 1.289999962, \"Ftarget\": null, \"F/Ftarget\": null, \"B Year\": 2005.0, \"Estimated B\": 27900.0, \"Blimit\": null, \"Bmsy\": 62000.0, \"B/Blimit\": null, \"B/Bmsy\": 0.449999988, \"MSY\": 7100.0}, {\"Common Name\": \"Skipjack tuna\", \"Assessment Year\": 2008, \"Stock ID\": 10158.0, \"ITIS Taxon Serial Number\": 172401.0, \"Assessment ID\": 1516.0, \"Assessment Month\": 10.0, \"Last Data Year\": 2006.0, \"Life History Data\": 2.0, \"Abundance Data\": 1.0, \"Catch Data\": 2.0, \"Assessment Level\": 4.0, \"Assessment Frequency\": 2.0, \"Model Category\": null, \"Catch Input Data\": null, \"Abundance Input Data\": null, \"Biological Input Data\": null, \"Ecosystem Linkage\": null, \"Composition Input Data\": null, \"F Year\": null, \"Estimated F\": null, \"Flimit\": null, \"Fmsy\": null, \"F/Flimit\": 0.50999999, \"F/Fmsy\": 0.50999999, \"Ftarget\": null, \"F/Ftarget\": 0.50999999, \"B Year\": null, \"Estimated B\": null, \"Blimit\": null, \"Bmsy\": null, \"B/Blimit\": 2.039999962, \"B/Bmsy\": 2.039999962, \"MSY\": 30660.0}, {\"Common Name\": \"Skipjack tuna\", \"Assessment Year\": 2014, \"Stock ID\": 10158.0, \"ITIS Taxon Serial Number\": 172401.0, \"Assessment ID\": 5204.0, \"Assessment Month\": 10.0, \"Last Data Year\": 2013.0, \"Life History Data\": 2.0, \"Abundance Data\": 1.0, \"Catch Data\": 2.0, \"Assessment Level\": 3.0, \"Assessment Frequency\": 1.0, \"Model Category\": null, \"Catch Input Data\": null, \"Abundance Input Data\": null, \"Biological Input Data\": null, \"Ecosystem Linkage\": null, \"Composition Input Data\": null, \"F Year\": 2013.0, \"Estimated F\": null, \"Flimit\": null, \"Fmsy\": null, \"F/Flimit\": 0.699999988, \"F/Fmsy\": 0.699999988, \"Ftarget\": null, \"F/Ftarget\": 0.699999988, \"B Year\": 2013.0, \"Estimated B\": null, \"Blimit\": null, \"Bmsy\": null, \"B/Blimit\": 1.299999952, \"B/Bmsy\": 1.299999952, \"MSY\": 31000.0}, {\"Common Name\": \"Skipjack tuna\", \"Assessment Year\": 2022, \"Stock ID\": 10158.0, \"ITIS Taxon Serial Number\": 172401.0, \"Assessment ID\": 12456.0, \"Assessment Month\": 5.0, \"Last Data Year\": 2020.0, \"Life History Data\": null, \"Abundance Data\": null, \"Catch Data\": null, \"Assessment Level\": null, \"Assessment Frequency\": null, \"Model Category\": 5.0, \"Catch Input Data\": 4.0, \"Abundance Input Data\": 2.0, \"Biological Input Data\": 2.0, \"Ecosystem Linkage\": 2.0, \"Composition Input Data\": 3.0, \"F Year\": 2020.0, \"Estimated F\": null, \"Flimit\": null, \"Fmsy\": null, \"F/Flimit\": null, \"F/Fmsy\": 0.409999996, \"Ftarget\": null, \"F/Ftarget\": null, \"B Year\": null, \"Estimated B\": null, \"Blimit\": null, \"Bmsy\": null, \"B/Blimit\": null, \"B/Bmsy\": 1.600000024, \"MSY\": 35277.0}, {\"Common Name\": \"Swordfish\", \"Assessment Year\": 2006, \"Stock ID\": 10953.0, \"ITIS Taxon Serial Number\": 172482.0, \"Assessment ID\": 1031.0, \"Assessment Month\": 9.0, \"Last Data Year\": 2005.0, \"Life History Data\": 3.0, \"Abundance Data\": 2.0, \"Catch Data\": 4.0, \"Assessment Level\": 3.0, \"Assessment Frequency\": 2.0, \"Model Category\": null, \"Catch Input Data\": null, \"Abundance Input Data\": null, \"Biological Input Data\": null, \"Ecosystem Linkage\": null, \"Composition Input Data\": null, \"F Year\": 2005.0, \"Estimated F\": 0.211999997, \"Flimit\": null, \"Fmsy\": 0.246999994, \"F/Flimit\": 0.860000014, \"F/Fmsy\": 0.860000014, \"Ftarget\": null, \"F/Ftarget\": 0.860000014, \"B Year\": 2006.0, \"Estimated B\": 65200.0, \"Blimit\": null, \"Bmsy\": 66400.0, \"B/Blimit\": null, \"B/Bmsy\": 0.981999993, \"MSY\": 14133.0}, {\"Common Name\": \"Swordfish\", \"Assessment Year\": 2009, \"Stock ID\": 10953.0, \"ITIS Taxon Serial Number\": 172482.0, \"Assessment ID\": 2244.0, \"Assessment Month\": 10.0, \"Last Data Year\": 2008.0, \"Life History Data\": 2.0, \"Abundance Data\": 2.0, \"Catch Data\": 4.0, \"Assessment Level\": 3.0, \"Assessment Frequency\": 2.0, \"Model Category\": null, \"Catch Input Data\": null, \"Abundance Input Data\": null, \"Biological Input Data\": null, \"Ecosystem Linkage\": null, \"Composition Input Data\": null, \"F Year\": 2008.0, \"Estimated F\": 0.170000002, \"Flimit\": 0.222000003, \"Fmsy\": 0.222000003, \"F/Flimit\": 0.765999973, \"F/Fmsy\": 0.765999973, \"Ftarget\": 0.222000003, \"F/Ftarget\": 0.765999973, \"B Year\": 2009.0, \"Estimated B\": 64840.0, \"Blimit\": 61861.0, \"Bmsy\": 61861.0, \"B/Blimit\": 1.047999978, \"B/Bmsy\": 1.047999978, \"MSY\": 13730.0}, {\"Common Name\": \"Swordfish\", \"Assessment Year\": 2013, \"Stock ID\": 10953.0, \"ITIS Taxon Serial Number\": 172482.0, \"Assessment ID\": 3897.0, \"Assessment Month\": 10.0, \"Last Data Year\": 2011.0, \"Life History Data\": 2.0, \"Abundance Data\": 1.0, \"Catch Data\": 2.0, \"Assessment Level\": 3.0, \"Assessment Frequency\": 2.0, \"Model Category\": null, \"Catch Input Data\": null, \"Abundance Input Data\": null, \"Biological Input Data\": null, \"Ecosystem Linkage\": null, \"Composition Input Data\": null, \"F Year\": 2011.0, \"Estimated F\": 0.172000006, \"Flimit\": 0.209999993, \"Fmsy\": 0.209999993, \"F/Flimit\": 0.819999993, \"F/Fmsy\": 0.819999993, \"Ftarget\": 0.209999993, \"F/Ftarget\": 0.819999993, \"B Year\": 2011.0, \"Estimated B\": 74168.0, \"Blimit\": 65060.0, \"Bmsy\": 65060.0, \"B/Blimit\": 1.139999986, \"B/Bmsy\": 1.139999986, \"MSY\": 13660.0}, {\"Common Name\": \"Swordfish\", \"Assessment Year\": 2017, \"Stock ID\": 10953.0, \"ITIS Taxon Serial Number\": 172482.0, \"Assessment ID\": 7801.0, \"Assessment Month\": 10.0, \"Last Data Year\": 2015.0, \"Life History Data\": 2.0, \"Abundance Data\": 1.0, \"Catch Data\": 2.0, \"Assessment Level\": 4.0, \"Assessment Frequency\": 2.0, \"Model Category\": null, \"Catch Input Data\": null, \"Abundance Input Data\": null, \"Biological Input Data\": null, \"Ecosystem Linkage\": null, \"Composition Input Data\": null, \"F Year\": 2015.0, \"Estimated F\": 0.133000001, \"Flimit\": null, \"Fmsy\": 0.170000002, \"F/Flimit\": null, \"F/Fmsy\": 0.779999971, \"Ftarget\": null, \"F/Ftarget\": null, \"B Year\": 2015.0, \"Estimated B\": 85946.0, \"Blimit\": null, \"Bmsy\": 82640.0, \"B/Blimit\": null, \"B/Bmsy\": 1.039999962, \"MSY\": 13059.0}, {\"Common Name\": \"Swordfish\", \"Assessment Year\": 2022, \"Stock ID\": 10953.0, \"ITIS Taxon Serial Number\": 172482.0, \"Assessment ID\": 12457.0, \"Assessment Month\": 6.0, \"Last Data Year\": 2020.0, \"Life History Data\": null, \"Abundance Data\": null, \"Catch Data\": null, \"Assessment Level\": null, \"Assessment Frequency\": null, \"Model Category\": 5.0, \"Catch Input Data\": 4.0, \"Abundance Input Data\": 2.0, \"Biological Input Data\": 3.0, \"Ecosystem Linkage\": 3.0, \"Composition Input Data\": 3.0, \"F Year\": 2020.0, \"Estimated F\": null, \"Flimit\": null, \"Fmsy\": 0.150000006, \"F/Flimit\": null, \"F/Fmsy\": 0.800000012, \"Ftarget\": null, \"F/Ftarget\": null, \"B Year\": null, \"Estimated B\": null, \"Blimit\": null, \"Bmsy\": 57919.0, \"B/Blimit\": null, \"B/Bmsy\": 1.080000043, \"MSY\": 12819.0}, {\"Common Name\": \"White marlin\", \"Assessment Year\": 2012, \"Stock ID\": 10955.0, \"ITIS Taxon Serial Number\": 768126.0, \"Assessment ID\": 3440.0, \"Assessment Month\": 10.0, \"Last Data Year\": 2011.0, \"Life History Data\": 2.0, \"Abundance Data\": 1.0, \"Catch Data\": 2.0, \"Assessment Level\": 4.0, \"Assessment Frequency\": 2.0, \"Model Category\": null, \"Catch Input Data\": null, \"Abundance Input Data\": null, \"Biological Input Data\": null, \"Ecosystem Linkage\": null, \"Composition Input Data\": null, \"F Year\": null, \"Estimated F\": null, \"Flimit\": null, \"Fmsy\": null, \"F/Flimit\": null, \"F/Fmsy\": null, \"Ftarget\": null, \"F/Ftarget\": null, \"B Year\": 2010.0, \"Estimated B\": null, \"Blimit\": null, \"Bmsy\": null, \"B/Blimit\": 0.321999997, \"B/Bmsy\": 0.321999997, \"MSY\": 1604.0}, {\"Common Name\": \"Yellowfin tuna\", \"Assessment Year\": 2008, \"Stock ID\": 10166.0, \"ITIS Taxon Serial Number\": 172423.0, \"Assessment ID\": 1517.0, \"Assessment Month\": 10.0, \"Last Data Year\": 2006.0, \"Life History Data\": 2.0, \"Abundance Data\": 1.0, \"Catch Data\": 4.0, \"Assessment Level\": 4.0, \"Assessment Frequency\": 2.0, \"Model Category\": null, \"Catch Input Data\": null, \"Abundance Input Data\": null, \"Biological Input Data\": null, \"Ecosystem Linkage\": null, \"Composition Input Data\": null, \"F Year\": null, \"Estimated F\": null, \"Flimit\": null, \"Fmsy\": null, \"F/Flimit\": 0.860000014, \"F/Fmsy\": 0.860000014, \"Ftarget\": null, \"F/Ftarget\": 0.860000014, \"B Year\": null, \"Estimated B\": null, \"Blimit\": null, \"Bmsy\": null, \"B/Blimit\": 0.959999979, \"B/Bmsy\": 0.959999979, \"MSY\": null}, {\"Common Name\": \"Yellowfin tuna\", \"Assessment Year\": 2011, \"Stock ID\": 10166.0, \"ITIS Taxon Serial Number\": 172423.0, \"Assessment ID\": 3143.0, \"Assessment Month\": 10.0, \"Last Data Year\": 2009.0, \"Life History Data\": 2.0, \"Abundance Data\": 1.0, \"Catch Data\": 4.0, \"Assessment Level\": 4.0, \"Assessment Frequency\": 2.0, \"Model Category\": null, \"Catch Input Data\": null, \"Abundance Input Data\": null, \"Biological Input Data\": null, \"Ecosystem Linkage\": null, \"Composition Input Data\": null, \"F Year\": 2010.0, \"Estimated F\": null, \"Flimit\": null, \"Fmsy\": null, \"F/Flimit\": 0.870000005, \"F/Fmsy\": 0.870000005, \"Ftarget\": null, \"F/Ftarget\": 0.870000005, \"B Year\": 2010.0, \"Estimated B\": null, \"Blimit\": null, \"Bmsy\": null, \"B/Blimit\": 1.700000048, \"B/Bmsy\": 0.850000024, \"MSY\": 144600.0}, {\"Common Name\": \"Yellowfin tuna\", \"Assessment Year\": 2016, \"Stock ID\": 10166.0, \"ITIS Taxon Serial Number\": 172423.0, \"Assessment ID\": 6934.0, \"Assessment Month\": 10.0, \"Last Data Year\": 2014.0, \"Life History Data\": 2.0, \"Abundance Data\": 1.0, \"Catch Data\": 4.0, \"Assessment Level\": 4.0, \"Assessment Frequency\": 1.0, \"Model Category\": null, \"Catch Input Data\": null, \"Abundance Input Data\": null, \"Biological Input Data\": null, \"Ecosystem Linkage\": null, \"Composition Input Data\": null, \"F Year\": 2013.0, \"Estimated F\": null, \"Flimit\": null, \"Fmsy\": null, \"F/Flimit\": 0.769999981, \"F/Fmsy\": 0.769999981, \"Ftarget\": null, \"F/Ftarget\": 0.769999981, \"B Year\": 2014.0, \"Estimated B\": null, \"Blimit\": null, \"Bmsy\": null, \"B/Blimit\": 0.949999988, \"B/Bmsy\": 0.949999988, \"MSY\": 126304.0}, {\"Common Name\": \"Yellowfin tuna\", \"Assessment Year\": 2019, \"Stock ID\": 10166.0, \"ITIS Taxon Serial Number\": 172423.0, \"Assessment ID\": 9402.0, \"Assessment Month\": 10.0, \"Last Data Year\": 2018.0, \"Life History Data\": 2.0, \"Abundance Data\": 1.0, \"Catch Data\": 4.0, \"Assessment Level\": 4.0, \"Assessment Frequency\": 1.0, \"Model Category\": 6.0, \"Catch Input Data\": 3.0, \"Abundance Input Data\": 2.0, \"Biological Input Data\": 3.0, \"Ecosystem Linkage\": 2.0, \"Composition Input Data\": 3.0, \"F Year\": 2018.0, \"Estimated F\": 0.959999979, \"Flimit\": null, \"Fmsy\": null, \"F/Flimit\": null, \"F/Fmsy\": 0.959999979, \"Ftarget\": null, \"F/Ftarget\": null, \"B Year\": 2018.0, \"Estimated B\": 729436.0, \"Blimit\": null, \"Bmsy\": null, \"B/Blimit\": null, \"B/Bmsy\": 1.169999957, \"MSY\": 121298.0}], \"data-984471563bd508110c25622834a2bcaa\": [{\"year\": 2007}, {\"year\": 2018}]}}, {\"mode\": \"vega-lite\"});\n",
       "</script>"
      ],
      "text/plain": [
       "alt.LayerChart(...)"
      ]
     },
     "execution_count": 248,
     "metadata": {},
     "output_type": "execute_result"
    }
   ],
   "source": [
    "AHM_group = AHMstocks_clean.groupby(['Common Name', 'Assessment Year']).median('B/Bmsy').reset_index()\n",
    "\n",
    "# Ensure the 'Assessment Year' is treated as an integer\n",
    "AHMstocks_clean.loc[:, 'Assessment Year'] = AHMstocks_clean['Assessment Year'].astype(int)\n",
    "\n",
    "B_Bmsy_range = [0, 2.8]  # Example range, adjust this as needed\n",
    "\n",
    "\n",
    "# Create the plot\n",
    "AHMchart = alt.Chart(AHM_group).mark_line().encode(\n",
    "    x='Assessment Year:O', \n",
    "    y='B/Bmsy:Q',\n",
    "    color='Common Name:N',\n",
    "    detail='Common Name:N'\n",
    ").properties(\n",
    "    width=400,\n",
    "    height=400,\n",
    "    title=\"B/Bmsy for Each Species Over the Years 2005-2022\"\n",
    ")\n",
    "\n",
    "# Chart the 2007 and 2018 policies\n",
    "policy_lines = alt.Chart(pd.DataFrame({'year': [2007, 2018]})).mark_rule(color='black').encode(\n",
    "    x='year:O'  # 'O' is for ordinal scale, as we are using specific years as markers\n",
    ")\n",
    "\n",
    "# Combine the line chart and vertical lines\n",
    "AHM_policychart = AHMchart + policy_lines\n",
    "\n",
    "# Display the final chart\n",
    "AHM_policychart\n",
    "\n"
   ]
  },
  {
   "cell_type": "markdown",
   "id": "8c96a0c6-5561-4bfd-9a25-4a5d7911e8db",
   "metadata": {},
   "source": [
    "Northeast Shelf Data: *** STILL NEED TO COMPLETE"
   ]
  },
  {
   "cell_type": "code",
   "execution_count": null,
   "id": "e0cb12ad-f344-4042-bc78-92d6cb96a789",
   "metadata": {},
   "outputs": [],
   "source": []
  },
  {
   "cell_type": "markdown",
   "id": "6064799c-7c44-43e3-b899-feb0475ea302",
   "metadata": {
    "tags": []
   },
   "source": [
    "####  Landings // Fish Haul"
   ]
  },
  {
   "cell_type": "code",
   "execution_count": 262,
   "id": "37f6fd64-a070-4007-9438-6a2b9366d322",
   "metadata": {
    "tags": []
   },
   "outputs": [],
   "source": [
    "# Specify years of interest and states\n",
    "years = [range(2005,2023)]\n",
    "States_long = ['DELAWARE', 'PENNSYLVANIA', 'NEW JERSEY', 'NEW YORK', 'CONNECTICUT', 'RHODE ISLAND', 'MASSACHUSETTS', 'NEW HAMPSHIRE', 'MAINE']\n",
    "\n",
    "# Reqest landings data from NOAA Fisheries API\n",
    "\n",
    "url = \"https://apps-st.fisheries.noaa.gov/ods/foss/landings/?offset=0&limit=100000\"\n",
    "params = {\"state_name\": States_long, \"year\": years}\n",
    "response = requests.get(url, params=params)\n",
    "landingsdata = response.json()\n",
    "\n",
    "# Turn the requested landings data into a data frame\n",
    "\n",
    "items = landingsdata['items']\n",
    "landings_df = pd.DataFrame(items)\n",
    "\n",
    "# Group data by state and year\n",
    "\n"
   ]
  },
  {
   "cell_type": "markdown",
   "id": "02063415-396a-4492-b318-182ba75afc67",
   "metadata": {},
   "source": [
    "#### Regional GDP"
   ]
  },
  {
   "cell_type": "code",
   "execution_count": 252,
   "id": "25b681b8-f93f-4a1d-85cf-4a4dee296941",
   "metadata": {
    "tags": []
   },
   "outputs": [],
   "source": [
    "# Import annual GDP data for each state of interest. \n",
    "\n",
    "\n",
    "# Filter data for the years 2005-2022. \n",
    "\n",
    "\n",
    "# Find mean GDP across all states in our study region for each year from 2005-2022. \n",
    "\n"
   ]
  },
  {
   "cell_type": "markdown",
   "id": "a7095483-2b94-4bcf-ae07-ab9ea2d942d9",
   "metadata": {},
   "source": [
    "#### Employment in Fishing Industry"
   ]
  },
  {
   "cell_type": "code",
   "execution_count": 264,
   "id": "a3196bbb-e375-49e0-9393-98ea19ac1746",
   "metadata": {
    "tags": []
   },
   "outputs": [],
   "source": [
    "# Import data from Bureau of Labour Statistics (BLS) employment data for NAICS 1141 - Fishing by county for all states of interest for 2005-2022\n",
    "\n",
    "\n",
    "# Group data by state and year\n",
    "\n"
   ]
  },
  {
   "cell_type": "markdown",
   "id": "9c804c58-dbcc-4cf5-9593-bd8f2a2bc8a2",
   "metadata": {
    "tags": []
   },
   "source": [
    "#### Combine all Data in One Graph"
   ]
  },
  {
   "cell_type": "code",
   "execution_count": 274,
   "id": "029d35bc-d875-46e2-9c0d-624687bb801f",
   "metadata": {
    "tags": []
   },
   "outputs": [],
   "source": [
    "# Create a graph combining all three data groups. \n",
    "\n",
    "# Chart the 2007 and 2018 policies\n",
    "# policy_lines = alt.Chart(pd.DataFrame({'year': [2007, 2018]})).mark_rule(color='black').encode(\n",
    "    # x='year:O'  # 'O' is for ordinal scale, as we are using specific years as markers\n",
    "# )\n",
    "\n",
    "# Combine the line chart and vertical lines\n",
    "# finalchart = finalchart + policy_lines\n",
    "\n",
    "# Display the final chart\n",
    "# finalchart\n"
   ]
  },
  {
   "cell_type": "markdown",
   "id": "4d348d7a-ce6d-4422-b4db-5926d273aa76",
   "metadata": {},
   "source": [
    "### Q1 PART 2 / State Scale: Are there state-specific patterns?"
   ]
  },
  {
   "cell_type": "markdown",
   "id": "43c57539-2762-4692-9d81-fdbeb731a670",
   "metadata": {},
   "source": [
    "Download states and county geometries"
   ]
  },
  {
   "cell_type": "code",
   "execution_count": 273,
   "id": "ad1f666d-b7e6-49d2-8dd8-8f3c08fa0f9d",
   "metadata": {
    "tags": []
   },
   "outputs": [],
   "source": [
    "States_of_interest = ['Delaware', 'Pennsylvania', 'New Jersey', 'New York', 'Connecticut', 'Rhode Island', 'Massachusetts', 'New Hampshire', 'Maine']\n",
    "\n",
    "# Open downloaded US Census states shapefile from data folder\n",
    "allstates = gpd.read_file(\"./data/cb_2021_us_state_20m/cb_2021_us_state_20m.shp\")\n",
    "sel_states = allstates[allstates['NAME'].isin(States_of_interest)]\n",
    "\n",
    "# Download US coastal counties \n"
   ]
  },
  {
   "cell_type": "markdown",
   "id": "72e900da-fab3-400e-b529-5d769dde15b3",
   "metadata": {},
   "source": [
    "#### GDP per Capita\n",
    "Determine GDP per capita for each state from 2005 to 2022"
   ]
  },
  {
   "cell_type": "code",
   "execution_count": 272,
   "id": "e09bd87c-ee55-4059-bbf7-8f4091f65671",
   "metadata": {
    "tags": []
   },
   "outputs": [],
   "source": [
    "# Import state annual GDP for 2005-2022 by county \n",
    "\n",
    "\n",
    "# Import US Census population count for each state from 2005-2022. \n",
    "\n",
    "\n",
    "# Calculate GDP per capita for each state for 2005-2022. \n",
    "\n",
    "\n",
    "# Calculate the median GDP per capita for 2005-2007, 2008-2018, and 2019-2022. \n"
   ]
  },
  {
   "cell_type": "markdown",
   "id": "9a596a1a-e25e-497c-ad4b-18dd60ef9c23",
   "metadata": {},
   "source": [
    "#### Employment in Fishing Industry\n",
    "Bureau of Labour Statistics (BLS) employment data for NAICS 1141 - Fishing by county for each state of interest from 2005 2022"
   ]
  },
  {
   "cell_type": "code",
   "execution_count": 271,
   "id": "f36981c0-07f5-47ad-ba62-bb143edb4893",
   "metadata": {
    "tags": []
   },
   "outputs": [],
   "source": [
    "# Import Bureau of Labour Statistics (BLS) employment data for NAICS 1141 - Fishing by county\n",
    "\n",
    "\n",
    "# Group data by yaer and county\n",
    "\n",
    "\n",
    "# Calculate median employment in fishing industry in each state from 2005-2007, 2008-2018, and 2019-2022.\n"
   ]
  },
  {
   "cell_type": "markdown",
   "id": "19905ee6-044b-4beb-bc75-0b899e120ad9",
   "metadata": {},
   "source": [
    "#### Landings // Fish haul"
   ]
  },
  {
   "cell_type": "code",
   "execution_count": null,
   "id": "eead3e73-2c0d-4f74-ba01-e63587e48ada",
   "metadata": {},
   "outputs": [],
   "source": [
    "# Specify years of interest and states\n",
    "years = [range(2005,2023)]\n",
    "States_long = ['DELAWARE', 'PENNSYLVANIA', 'NEW JERSEY', 'NEW YORK', 'CONNECTICUT', 'RHODE ISLAND', 'MASSACHUSETTS', 'NEW HAMPSHIRE', 'MAINE']\n",
    "\n",
    "# Reqest landings data from NOAA Fisheries API\n",
    "\n",
    "url = \"https://apps-st.fisheries.noaa.gov/ods/foss/landings/?offset=0&limit=100000\"\n",
    "params = {\"state_name\": States_long, \"year\": years}\n",
    "response = requests.get(url, params=params)\n",
    "landingsdata = response.json()\n",
    "\n",
    "# Turn the requested landings data into a data frame\n",
    "\n",
    "items = landingsdata['items']\n",
    "landings_df = pd.DataFrame(items)\n",
    "\n",
    "# Group data by state and year\n",
    "\n",
    "\n",
    "# Take median of landings in each state from 2005-2007, 2008-2018, and 2019-2022. \n"
   ]
  },
  {
   "cell_type": "markdown",
   "id": "04fab5be-033d-49cb-b341-141ec75b7a20",
   "metadata": {
    "tags": []
   },
   "source": [
    "#### Spatial Join"
   ]
  },
  {
   "cell_type": "code",
   "execution_count": 269,
   "id": "e01884c1-7cf7-4a8e-9817-fc087463c266",
   "metadata": {
    "tags": []
   },
   "outputs": [],
   "source": [
    "# Join GDP per capita, BLS employment, and landings data to the coastal counties gpd. \n",
    "\n",
    "\n"
   ]
  },
  {
   "cell_type": "markdown",
   "id": "2de6ef85-1274-4506-a479-66e46d682fac",
   "metadata": {},
   "source": [
    "#### Interactive Map"
   ]
  },
  {
   "cell_type": "code",
   "execution_count": 5,
   "id": "a688312e-8d9a-441f-bff7-9dda558419c1",
   "metadata": {
    "tags": []
   },
   "outputs": [],
   "source": [
    "# Create interactive map of coastal counties from Delaware to Maine region which toggles the three data groups\n"
   ]
  }
 ],
 "metadata": {
  "kernelspec": {
   "display_name": "Python 3 (ipykernel)",
   "language": "python",
   "name": "python3"
  },
  "language_info": {
   "codemirror_mode": {
    "name": "ipython",
    "version": 3
   },
   "file_extension": ".py",
   "mimetype": "text/x-python",
   "name": "python",
   "nbconvert_exporter": "python",
   "pygments_lexer": "ipython3",
   "version": "3.12.7"
  }
 },
 "nbformat": 4,
 "nbformat_minor": 5
}
